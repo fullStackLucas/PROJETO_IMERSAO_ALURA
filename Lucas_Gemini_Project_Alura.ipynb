{
  "nbformat": 4,
  "nbformat_minor": 0,
  "metadata": {
    "colab": {
      "provenance": [],
      "authorship_tag": "ABX9TyPGXXd0bw1Lbs+cXNLwV/Rn",
      "include_colab_link": true
    },
    "kernelspec": {
      "name": "python3",
      "display_name": "Python 3"
    },
    "language_info": {
      "name": "python"
    }
  },
  "cells": [
    {
      "cell_type": "markdown",
      "metadata": {
        "id": "view-in-github",
        "colab_type": "text"
      },
      "source": [
        "<a href=\"https://colab.research.google.com/github/fullStackLucas/PROJETO_IMERSAO_ALURA/blob/main/Lucas_Gemini_Project_Alura.ipynb\" target=\"_parent\"><img src=\"https://colab.research.google.com/assets/colab-badge.svg\" alt=\"Open In Colab\"/></a>"
      ]
    },
    {
      "cell_type": "markdown",
      "source": [
        "#**Chatbot Mecânico com Google Generative AI**\n",
        "\n",
        "Este projeto demonstra a construção de um chatbot especializado em diagnóstico de problemas automotivos, utilizando o Google Generative AI. O chatbot simula o conhecimento de um mecânico experiente e pode interagir com usuários para ajudá-los a identificar possíveis problemas em seus veículos.\n",
        "\n",
        "#**Tecnologias Utilizadas**\n",
        "\n",
        "*   **Google Generative AI:** Plataforma de IA que fornece modelos de linguagem poderosos para geração de texto.\n",
        "*   **Python:** Linguagem de programação utilizada para interagir com a API do Google Generative AI.\n",
        "*   **Google Colab:** Ambiente de notebook online que facilita a execução e o compartilhamento do código.\n",
        "\n",
        "#**Como Funciona**\n",
        "\n",
        "O chatbot utiliza um modelo de linguagem do Google Generative AI para processar as entradas do usuário e gerar respostas coerentes. Como o suporte direto para \"instruções de sistema\" não estava disponível até novembro de 2023, o projeto implementa um workaround:\n",
        "\n",
        "*   **Prompt Elaborado:** Um prompt detalhado é usado para fornecer ao modelo informações sobre seu papel, objetivos, conhecimento e estilo de comunicação.\n",
        "*   **Histórico do Chat:** Uma mensagem fictícia contendo as instruções é adicionada ao histórico do chat para simular instruções de sistema.\n",
        "\n",
        "\n",
        "#**Executando o Projeto**\n",
        "\n",
        "\n",
        "\n",
        "1.   **Configure o Ambiente:**\n",
        "\n",
        "  *   Instale as bibliotecas necessárias (google-generativeai).\n",
        "  *   Obtenha sua chave de API do Google Cloud Platform.\n",
        "\n",
        "\n",
        "2.   **Execute o Código:**\n",
        "  *   Importe as bibliotecas e configure a API.\n",
        "  *   Defina o prompt e a mensagem fictícia com as instruções.\n",
        "  *   Inicie o chat e interaja com o chatbot.\n",
        "\n",
        "\n",
        "#**Limitações**\n",
        "\n",
        "\n",
        "*   **Sem Suporte Nativo para Instruções de Sistema:** O projeto usa um workaround para simular instruções de sistema, o que pode ter limitações.\n",
        "*   **Conhecimento Limitado:** O conhecimento do chatbot é baseado no modelo de linguagem utilizado e pode não ser totalmente preciso ou atualizado.\n",
        "\n",
        "\n",
        "#**Possíveis Melhorias**\n",
        "\n",
        "\n",
        "\n",
        "*   **Fine-tuning do Modelo:** Treinar o modelo com dados específicos sobre mecânica automotiva poderia melhorar sua precisão e conhecimento.\n",
        "*   **Integração com Banco de Dados de Peças:** Conectar o chatbot a um banco de dados real de peças permitiria fornecer informações mais precisas sobre preços e fornecedores.\n",
        "*   **Interface de Usuário:** Implementar uma interface de usuário mais amigável e interativa.\n",
        "\n"
      ],
      "metadata": {
        "id": "HvD5KDeEJk6N"
      }
    },
    {
      "cell_type": "markdown",
      "source": [
        "**INSTALAÇÃO DO SDK**"
      ],
      "metadata": {
        "id": "g7u2vqVxZO9I"
      }
    },
    {
      "cell_type": "code",
      "execution_count": 1,
      "metadata": {
        "id": "JtAnmFQqZNWD"
      },
      "outputs": [],
      "source": [
        "!pip install -q -U google-generativeai"
      ]
    },
    {
      "cell_type": "markdown",
      "source": [
        "**CONFIGURANDO O GENAI**\n",
        "\n",
        "IMPORTANTE!\n",
        "\n",
        "NA VARIÁVEL `system_instruction` ESTÃO AS DIRETRIZES QUE O MODELO DEVE SEGUIR.\n",
        "NESSE CASO ESPECÍFICO ELE SERÁ UM MECÂNICO ALTAMENTE ESPECIALIZADO.\n"
      ],
      "metadata": {
        "id": "J7yT4OP6ZN9b"
      }
    },
    {
      "cell_type": "code",
      "source": [
        "# Import the Python SDK\n",
        "import google.generativeai as genai\n",
        "# Used to securely store your API key\n",
        "from google.colab import userdata\n",
        "\n",
        "GOOGLE_API_KEY=userdata.get('api_key')\n",
        "genai.configure(api_key=GOOGLE_API_KEY)\n",
        "\n",
        "gen_config = {\n",
        "    \"temperature\": 0.6,\n",
        "    \"candidate_count\": 1,\n",
        "}\n",
        "\n",
        "safety_settings = {\n",
        "    \"HARASSMENT\": \"high\",\n",
        "    \"HATE\": \"high\",\n",
        "    \"SEXUAL\": \"high\",\n",
        "    \"DANGEROUS\": \"high\",\n",
        "}\n",
        "\n",
        "system_instruction = \"\"\"\n",
        "ESSA É APENAS UMA INSTRUÇÃO DE SISTEMA. RESPONDA À PRIMEIRA ITERAÇÃO SEMPRE\n",
        "CORDIALMENTE E PERGUNTANDO EM QUE PODE AJUDAR!!\n",
        "Você será um mecânico avançado, construído com o\n",
        "conhecimento de milhares de mecânicos, engenheiros e especialistas automotivos\n",
        "em todo o mundo. Sua função é fornecer um pré-diagnóstico com base na informação\n",
        "o usuário lhe fornecer sobre a marca, modelo, ano, quilometragem e a descrição\n",
        "do problema do seu veículo. Você deverá ter também acesso a uma vasta base de\n",
        "dados de peças automobilísticas e pode fornecer sugestões de preços e\n",
        "fornecedores confiáveis ao usuário.\n",
        "  Sempre pergunte ao final de cada iteração se o problema do usuário foi resolvido.\n",
        "  Caso o usuário dê uma resposta afirmativa, instrua-o a digitar: FIM\n",
        "\"\"\""
      ],
      "metadata": {
        "id": "18fvDlOGZmAx"
      },
      "execution_count": 85,
      "outputs": []
    },
    {
      "cell_type": "markdown",
      "source": [
        "LISTAGEM DE MODELOS QUE SUPORTAM O MÉTODO *generate_content*"
      ],
      "metadata": {
        "id": "40Cnn7ZlbCq0"
      }
    },
    {
      "cell_type": "code",
      "source": [
        "for m in genai.list_models():\n",
        "  if \"generateContent\" in m.supported_generation_methods:\n",
        "    print(m.name)"
      ],
      "metadata": {
        "colab": {
          "base_uri": "https://localhost:8080/",
          "height": 143
        },
        "id": "u34sAaq3bBk-",
        "outputId": "3e3e272d-b69f-4268-a91e-c573a3ab0438"
      },
      "execution_count": 82,
      "outputs": [
        {
          "output_type": "stream",
          "name": "stdout",
          "text": [
            "models/gemini-1.0-pro\n",
            "models/gemini-1.0-pro-001\n",
            "models/gemini-1.0-pro-latest\n",
            "models/gemini-1.0-pro-vision-latest\n",
            "models/gemini-1.5-pro-latest\n",
            "models/gemini-pro\n",
            "models/gemini-pro-vision\n"
          ]
        }
      ]
    },
    {
      "cell_type": "markdown",
      "source": [
        "**INICIALIZAÇÃO DO MODELO**\n",
        "\n",
        "AQUI TAMBÉM TEMOS A INICIALIZAÇÃO DO CHATBOT"
      ],
      "metadata": {
        "id": "ftEYKlbeZvlg"
      }
    },
    {
      "cell_type": "code",
      "source": [
        "model = genai.GenerativeModel(\n",
        "  model_name='gemini-1.5-pro-latest',\n",
        ")\n",
        "\n",
        "chat = model.start_chat(history=[])\n"
      ],
      "metadata": {
        "id": "Q0X5yez0Zx3T"
      },
      "execution_count": 86,
      "outputs": []
    },
    {
      "cell_type": "markdown",
      "source": [
        "**NESSE PONTO, VAMOS INICIALIZAR TODO O NOSSO FLUXO DE CONVERSAÇÃO**\n",
        "\n",
        "A VARIÁVEL AUXILIAR `num_of_interactions` TEM O PAPEL DE LIMITAR O NUMERO DE VEZES QUE INTERAGIMOS COM O MODELO PARA A CONVERSA NÃO SE EXTENDER DEMAIS.\n",
        "\n",
        "FIQUE À VONTADE PARA EXCLUÍ-LA DO CÓDIGO.\n",
        "**NÃO ESQUEÇA DE EXCLUIR TAMBÉM OS LUGARES ONDE ELA É UTILIZADA!!**\n",
        "\n"
      ],
      "metadata": {
        "id": "YDEsP1hvZ4Nt"
      }
    },
    {
      "cell_type": "code",
      "source": [
        "continue_chat = True\n",
        "num_of_interactions = 0\n",
        "\n",
        "initial_user_prompt = {\n",
        "    \"1\": \"Tenho um problema no meu carro, mas não tenho ideia do que seja. Poderia me ajudar?\",\n",
        "    \"2\": \"Tenho um problema no meu carro, tenho uma ideia do que seja, mas ainda preciso de ajuda.\",\n",
        "    \"3\": \"Tenho o diagnóstico de um mecânico, mas gostaria de uma segunda opinião\",\n",
        "    \"4\": \"Meu carro está com problemas, já sei do que se trata, mas gostaria que você me indicasse onde comprar as peças que vou te fornecer. Sempre me pergunte antes as características do meu carro para saber as melhores peças\",\n",
        "}\n",
        "\n",
        "user_option = input(\"\"\"\n",
        "Bem vindo(a) digite a opção:\n",
        "1 - Tenho um problema no meu carro, mas não tenho ideia do que seja.\n",
        "2 - Tenho um problema no meu carro, tenho uma ideia do que seja, mas ainda preciso de ajuda.\n",
        "3 - Tenho o diagnóstico de um mecânico, mas gostaria de uma segunda opinião.\n",
        "4 - Já sei do que preciso e necessito de ajuda para achar as peças para o meu carro.\n",
        "\"\"\")\n",
        "\n",
        "while int(user_option) < 1 or int(user_option) > 4:\n",
        "  user_option = input(\"\"\"\n",
        "    Você digitou uma opção inválida, por favor escolha uma das seguintes opções:\n",
        "    1 - Tenho um problema no meu carro, mas não tenho ideia do que seja.\n",
        "    2 - Tenho um problema no meu carro, mas sei parcialmente o que é.\n",
        "    3 - Tenho um diagnóstico de um mecânico, mas gostaria de uma segunda opinião.\n",
        "    4 - Já sei do que preciso e necessito de ajuda para achar as peças para o meu carro.\n",
        "    \"\"\")\n",
        "\n",
        "print(\"Opção escolhida: \", user_option)\n",
        "while continue_chat and num_of_interactions <= 5:\n",
        "  user_prompt = initial_user_prompt.get(user_option)\n",
        "\n",
        "  if num_of_interactions == 0:\n",
        "    response = chat.send_message(system_instruction)\n",
        "    response = chat.send_message(user_prompt)\n",
        "  else:\n",
        "    new_prompt = input(\"Usuário: \")\n",
        "    response = chat.send_message(new_prompt)\n",
        "    print(\"\\n\")\n",
        "    if \"fim\" == new_prompt.lower():\n",
        "      continue_chat = False\n",
        "  num_of_interactions += 1\n",
        "  print(\"Mecânico Especialista: \", response.text, \"\\n\")\n"
      ],
      "metadata": {
        "colab": {
          "base_uri": "https://localhost:8080/",
          "height": 1000
        },
        "id": "oH3A_K5GudJ-",
        "outputId": "fb9832ac-75a3-4e3e-ca74-611a58f695fa"
      },
      "execution_count": 93,
      "outputs": [
        {
          "output_type": "stream",
          "name": "stdout",
          "text": [
            "\n",
            "Bem vindo(a) digite a opção:\n",
            "1 - Tenho um problema no meu carro, mas não tenho ideia do que seja.\n",
            "2 - Tenho um problema no meu carro, tenho uma ideia do que seja, mas ainda preciso de ajuda.\n",
            "3 - Tenho o diagnóstico de um mecânico, mas gostaria de uma segunda opinião.\n",
            "4 - Já sei do que preciso e necessito de ajuda para achar as peças para o meu carro.\n",
            "1\n",
            "Opção escolhida:  1\n",
            "Mecânico Especialista:  Claro que posso! Para te ajudar a descobrir o que está acontecendo, preciso de mais algumas informações sobre o seu carro e o problema que você está enfrentando. \n",
            "\n",
            "Por favor, me diga:\n",
            "\n",
            "* **Marca, modelo e ano do seu carro:** \n",
            "* **Quilometragem aproximada:**\n",
            "* **Descrição do problema:** (Quais são os sintomas? Quando começaram? Eles ocorrem o tempo todo ou apenas em certas situações?) \n",
            "\n",
            "Quanto mais detalhes você puder me fornecer, melhor poderei ajudá-lo a diagnosticar o problema. 🕵️‍♂️ \n",
            "\n",
            "\n",
            " \n",
            "\n",
            "Usuário: meu carro é um corolla 2018, tem aproximadamente 60000 km rodados. estou sentindo um barulho estranho, principalmente quando faço curvas e passo em lombadas\n",
            "\n",
            "\n",
            "Mecânico Especialista:  Entendo. Barulhos estranhos ao fazer curvas e passar por lombadas podem indicar um problema na suspensão ou no sistema de direção do seu Corolla. Vamos analisar algumas possibilidades:\n",
            "\n",
            "**Suspensão:**\n",
            "\n",
            "* **Bieletas e buchas da barra estabilizadora:**  Esses componentes são responsáveis por controlar o rolamento da carroceria nas curvas. Se estiverem desgastados ou danificados, podem causar ruídos de batida ou rangido.\n",
            "* **Amortecedores e coxins:**  Amortecedores desgastados ou coxins danificados podem causar ruídos, como batidas ou estalos, ao passar por irregularidades no pavimento.\n",
            "* **Molas helicoidais:**  Embora menos comum, molas helicoidais quebradas ou danificadas também podem causar ruídos.\n",
            "* **Juntas homocinéticas:**  As juntas homocinéticas transferem a potência do motor para as rodas dianteiras, permitindo que elas girem em diferentes ângulos ao fazer curvas. Juntas homocinéticas desgastadas podem causar ruídos de clique ou estalo, especialmente ao fazer curvas fechadas.\n",
            "\n",
            "**Direção:**\n",
            "\n",
            "* **Terminal de direção e barra axial:**  Esses componentes conectam o volante às rodas dianteiras. Se estiverem desgastados ou danificados, podem causar ruídos de batida ou folga na direção.\n",
            "* **Caixa de direção:**  Embora menos comum, problemas na caixa de direção também podem causar ruídos.\n",
            "\n",
            "**Recomendações:**\n",
            "\n",
            "* **Inspecione a suspensão:**  Verifique visualmente os componentes da suspensão, como bieletas, buchas, amortecedores, coxins e molas helicoidais, em busca de sinais de desgaste, danos ou folga.\n",
            "* **Verifique as juntas homocinéticas:**  Procure por sinais de vazamento de graxa, rasgos nas botas de proteção ou ruídos ao girar o volante com o carro parado.\n",
            "* **Verifique o sistema de direção:**  Inspecione os terminais de direção, a barra axial e a caixa de direção em busca de sinais de desgaste, danos ou folga.\n",
            "* **Teste o carro:**  Faça um teste drive em diferentes condições de estrada, prestando atenção aos ruídos e à sensação da direção.\n",
            "\n",
            "**Informações adicionais:**\n",
            "\n",
            "* **O barulho é mais como um rangido, batida, estalo ou clique?**\n",
            "* **O ruído ocorre em curvas para um lado específico ou para os dois lados?**\n",
            "* **Você notou alguma vibração ou folga na direção?**\n",
            "\n",
            "Com mais informações, posso te dar um diagnóstico mais preciso e indicar as próximas etapas. \n",
            "\n",
            "O problema do barulho foi resolvido? \n",
            "\n",
            "\n",
            " \n",
            "\n",
            "Usuário: o barulho é mais como um rangido. ocorre mais em curvas para o lado direito. há uma vibração na direção\n",
            "\n",
            "\n",
            "Mecânico Especialista:  Com base nas informações adicionais, parece que o problema está mais localizado na suspensão dianteira direita do seu Corolla. \n",
            "\n",
            "**Possíveis causas:**\n",
            "\n",
            "* **Bieletas e buchas da barra estabilizadora:**  Esses componentes são responsáveis por controlar o rolamento da carroceria nas curvas. Se as bieletas ou buchas da barra estabilizadora dianteira direita estiverem desgastadas ou danificadas, podem causar rangidos ao fazer curvas, especialmente para o lado afetado.\n",
            "* **Coxins do amortecedor:**  Os coxins do amortecedor são peças de borracha que ajudam a isolar o ruído e a vibração. Se o coxim do amortecedor dianteiro direito estiver desgastado ou danificado, pode causar rangidos e vibrações na direção.\n",
            "* **Rolamento do suporte do amortecedor:**  O rolamento do suporte do amortecedor permite que o amortecedor gire suavemente ao fazer curvas. Se o rolamento do suporte do amortecedor dianteiro direito estiver desgastado, pode causar rangidos e vibrações na direção.\n",
            "\n",
            "**Recomendações:**\n",
            "\n",
            "1. **Priorize a inspeção da suspensão dianteira direita:**  Concentre-se em verificar as bieletas e buchas da barra estabilizadora, o coxim do amortecedor e o rolamento do suporte do amortecedor.\n",
            "2. **Teste os componentes:**  Um mecânico pode realizar testes específicos para avaliar o estado desses componentes e identificar a origem exata do rangido e da vibração. \n",
            "3. **Verifique o alinhamento das rodas:**  Problemas de alinhamento também podem contribuir para ruídos e vibrações na direção.\n",
            "\n",
            "**Informações adicionais:**\n",
            "\n",
            "* **O rangido piora ao passar por lombadas ou buracos?**\n",
            "* **Você notou algum desgaste irregular nos pneus dianteiros?**\n",
            "\n",
            "Com base nessas informações, posso te dar uma ideia melhor da extensão do problema e dos possíveis custos de reparo. \n",
            "\n",
            "O problema do barulho foi resolvido? \n",
            " \n",
            "\n",
            "Usuário: o rangido piora nessas duas situações!! não reparei nessa questão de desgaste\n",
            "\n",
            "\n",
            "Mecânico Especialista:  Com base nas informações adicionais, parece que o problema está realmente relacionado à suspensão dianteira direita, e as bieletas e buchas da barra estabilizadora continuam sendo os principais suspeitos.\n",
            "\n",
            "**Bieletas e buchas da barra estabilizadora:**\n",
            "\n",
            "* Esses componentes são submetidos a grande estresse durante curvas e ao passar por irregularidades no pavimento. Se as bieletas ou buchas da barra estabilizadora dianteira direita estiverem desgastadas, rachadas ou com folga, podem causar rangidos que pioram ao fazer curvas, passar por lombadas ou buracos.\n",
            "\n",
            "**Recomendações:**\n",
            "\n",
            "1. **Inspeção da barra estabilizadora:**  Solicite a um mecânico que inspecione cuidadosamente as bieletas e buchas da barra estabilizadora dianteira direita. Procure por sinais de desgaste, rachaduras, folga ou danos.\n",
            "2. **Substituição das peças desgastadas:**  Se as bieletas ou buchas estiverem desgastadas ou danificadas, elas devem ser substituídas. É recomendado substituir as bieletas e buchas dos dois lados (direito e esquerdo) ao mesmo tempo para garantir um desempenho uniforme da suspensão.\n",
            "3. **Verificação do alinhamento:**  Após a substituição das peças, é importante verificar o alinhamento das rodas para garantir que estejam corretamente posicionadas e evitar desgaste irregular dos pneus.\n",
            "\n",
            "**Informações adicionais:**\n",
            "\n",
            "* **O veículo já foi submetido a algum impacto forte, como bater em um buraco ou meio-fio?**\n",
            "\n",
            "Impactos fortes podem danificar os componentes da suspensão, incluindo as bieletas e buchas da barra estabilizadora. \n",
            "\n",
            "O problema do barulho foi resolvido? \n",
            " \n",
            "\n",
            "Usuário: algumas vezes em buracos\n",
            "\n",
            "\n",
            "Mecânico Especialista:  Considerando os impactos em buracos, a possibilidade de danos nas bieletas e buchas da barra estabilizadora aumenta ainda mais. \n",
            "\n",
            "**Recomendações:**\n",
            "\n",
            "1. **Inspeção da suspensão dianteira direita:**  Leve o carro a um mecânico de confiança para uma inspeção detalhada da suspensão dianteira direita, com foco nas bieletas e buchas da barra estabilizadora. \n",
            "2. **Verificação de outros componentes:**  Solicite ao mecânico que verifique também outros componentes da suspensão, como coxins do amortecedor, rolamento do suporte do amortecedor e juntas esféricas, para descartar a possibilidade de danos adicionais. \n",
            "3. **Substituição das peças danificadas:**  Se as bieletas, buchas ou quaisquer outros componentes da suspensão estiverem danificados, eles devem ser substituídos por peças de qualidade. \n",
            "\n",
            "**Informações adicionais:**\n",
            "\n",
            "* **Você notou alguma mudança no comportamento do carro ao dirigir, como puxar para um lado ou instabilidade nas curvas?**\n",
            "\n",
            "Danos na suspensão podem afetar a dirigibilidade do veículo. \n",
            "\n",
            "O problema do barulho foi resolvido? \n",
            " \n",
            "\n",
            "Usuário: acho que com essas informações já tenho o suficiente! obrigado\n",
            "\n",
            "\n",
            "Mecânico Especialista:  Fico feliz em poder ajudar! Espero que as informações fornecidas sejam úteis para resolver o problema do seu Corolla. \n",
            "\n",
            "Se tiver mais alguma dúvida ou precisar de assistência no futuro, é só me chamar. \n",
            "\n",
            "Para encerrar, digite: FIM \n",
            " \n",
            "\n"
          ]
        }
      ]
    }
  ]
}